{
 "cells": [
  {
   "cell_type": "code",
   "execution_count": null,
   "metadata": {},
   "outputs": [],
   "source": [
    "import pandas as pd\n",
    "import numpy as np\n",
    "import matplotlib.pyplot as plt\n",
    "import seaborn as sns\n",
    "\n",
    "file = open(\"inscricoes_2022-06-27T20_46_37.csv\", \"r\")\n",
    "\n",
    "male = 0\n",
    "female = 0\n",
    "other = 0\n",
    "\n",
    "\n",
    "for line in file:\n",
    "    if \"female\" in line:\n",
    "        female = female + 1\n",
    "    elif \"male\" in line:\n",
    "        male = male + 1\n",
    "    elif \"female\" not in line and \"male\" not in line:\n",
    "        other = other + 1\n",
    "        \n",
    "\n",
    "other = other - 1 #to decrease title' line\n",
    "\n",
    "# print(male)\n",
    "# print(\"\\n\")\n",
    "# print(female)\n",
    "# print(\"\\n\")\n",
    "# print(other)\n",
    "\n",
    "file.close()\n",
    "\n",
    "gender = ['Male', 'Female', 'Other']\n",
    "qtd = [male, female, other]\n",
    "\n",
    "plt.bar(gender, qtd)\n",
    "plt.show()\n"
   ]
  }
 ],
 "metadata": {
  "language_info": {
   "name": "python"
  },
  "orig_nbformat": 4
 },
 "nbformat": 4,
 "nbformat_minor": 2
}
